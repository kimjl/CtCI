{
 "cells": [
  {
   "cell_type": "code",
   "execution_count": 4,
   "metadata": {},
   "outputs": [
    {
     "name": "stdout",
     "output_type": "stream",
     "text": [
      "True\n",
      "False\n",
      "False\n",
      "True\n"
     ]
    }
   ],
   "source": [
    "#Implement an algorithm to determine if a string has all unique characters. \n",
    "#What if you cannot use additional data structures?\n",
    "\n",
    "def uniqueString(s):\n",
    "    d = {}\n",
    "    for i in s:\n",
    "        d[i] = d.get(i, 0)+1\n",
    "    for k, v in d.items():\n",
    "        if d[k] != 1:\n",
    "            return False\n",
    "    return True\n",
    "\n",
    "s = 'abcdefg' #-> True\n",
    "print(uniqueString(s))\n",
    "s = 'aabcd' #-> False\n",
    "print(uniqueString(s))\n",
    "s = 'aa' #-> False\n",
    "print(uniqueString(s))\n",
    "s = 'a' #-> True\n",
    "print(uniqueString(s))"
   ]
  },
  {
   "cell_type": "code",
   "execution_count": 14,
   "metadata": {},
   "outputs": [
    {
     "name": "stdout",
     "output_type": "stream",
     "text": [
      "True\n",
      "False\n"
     ]
    }
   ],
   "source": [
    "#Given 2 strings, write a method to determine if one is a permutation of the other\n",
    "#2 stringsd are permutations if they have the same characters but in different orders\n",
    "def permutation(s, t):\n",
    "#     s = sorted(s)\n",
    "#     t = sorted(t)\n",
    "#     return s == t\n",
    "\n",
    "    d1 = {}\n",
    "    d2 = {}\n",
    "    for i in s:\n",
    "        d1[i] = d1.get(i, 0)+1\n",
    "    for i in t:\n",
    "        d2[i] = d2.get(i, 0)+1\n",
    "    return d1 == d2\n",
    "s = 'dog'\n",
    "t = 'god'\n",
    "print(permutation(s, t))\n",
    "s = 'hello'\n",
    "t = 'hell'\n",
    "print(permutation(s, t))"
   ]
  },
  {
   "cell_type": "code",
   "execution_count": 32,
   "metadata": {},
   "outputs": [
    {
     "data": {
      "text/plain": [
       "'Mr%20John%20Smith'"
      ]
     },
     "execution_count": 32,
     "metadata": {},
     "output_type": "execute_result"
    }
   ],
   "source": [
    "#Write a method to replace all spaces in a string with '%20'.\n",
    "# \"Mr John Smith\" --> \"Mr%20John%20Smith\n",
    "\n",
    "def urlify(s):\n",
    "#     return s.replace(' ', '%20')\n",
    "\n",
    "    s = list(s)\n",
    "    for i in range(len(s)):\n",
    "        if s[i] == ' ':\n",
    "            s[i] = '%20'\n",
    "    return ''.join(s)\n",
    "\n",
    "urlify('Mr John Smith')"
   ]
  },
  {
   "cell_type": "code",
   "execution_count": 36,
   "metadata": {},
   "outputs": [
    {
     "name": "stdout",
     "output_type": "stream",
     "text": [
      "False\n",
      "True\n"
     ]
    }
   ],
   "source": [
    "#Given a string, write a function to check if it is a permutation of a palindrome.\n",
    "#A palindrome is a permutation that is the same forwards and backwards\n",
    "\n",
    "def palindrome(s):\n",
    "    left, right = 0, len(s)-1\n",
    "    while left < right:\n",
    "        while left < right and not s[left].isalnum():\n",
    "            left += 1\n",
    "        while left < right and not s[right].isalnum():\n",
    "            right -= 1\n",
    "        while left < right and s[left].lower() != s[right].lower():\n",
    "            return False\n",
    "        left += 1\n",
    "        right -= 1\n",
    "    return True\n",
    "\n",
    "print(palindrome('This is not a palindrome'))\n",
    "print(palindrome('taco cat'))"
   ]
  },
  {
   "cell_type": "code",
   "execution_count": 45,
   "metadata": {},
   "outputs": [
    {
     "data": {
      "text/plain": [
       "'a2b1c5a3'"
      ]
     },
     "execution_count": 45,
     "metadata": {},
     "output_type": "execute_result"
    }
   ],
   "source": [
    "#Implement a method that counts repeated characters in a string. aabcccccaaa becomes a2b1c5a3.\n",
    "#If compressed string would not become smaller than original string, return original string.\n",
    "\n",
    "def compress(s):\n",
    "    compressed = ''\n",
    "    count_repeat = 0\n",
    "    for i in range(len(s)):\n",
    "        count_repeat += 1\n",
    "        if i+1 >= len(s) or s[i] != s[i+1]:\n",
    "            compressed += '' + s[i] + str(count_repeat)\n",
    "            count_repeat = 0\n",
    "    if len(compressed) < len(s):\n",
    "        return compressed\n",
    "    else:\n",
    "        return s\n",
    "compress('aabcccccaaa')"
   ]
  },
  {
   "cell_type": "code",
   "execution_count": 46,
   "metadata": {},
   "outputs": [
    {
     "data": {
      "text/plain": [
       "[[7, 4, 1], [8, 5, 2], [9, 6, 3]]"
      ]
     },
     "execution_count": 46,
     "metadata": {},
     "output_type": "execute_result"
    }
   ],
   "source": [
    "#Given an image represented by an NxN matrix, write a method to rotate the image by 90 degrees.\n",
    "#Can you do it in-place?\n",
    "\n",
    "def rotate(matrix):\n",
    "    #tranpose matrix is who rows are columns of original\n",
    "    n = len(matrix[0])\n",
    "    for i in range(n):\n",
    "        for j in range(i, n):\n",
    "            matrix[j][i], matrix[i][j] = matrix[i][j], matrix[j][i]\n",
    "    \n",
    "    #once we have transpose matrix, reverse rows\n",
    "    for i in range(n):\n",
    "        matrix[i].reverse()\n",
    "    return matrix\n",
    "rotate([\n",
    "  [1,2,3],\n",
    "  [4,5,6],\n",
    "  [7,8,9]\n",
    "])"
   ]
  },
  {
   "cell_type": "code",
   "execution_count": 51,
   "metadata": {},
   "outputs": [
    {
     "name": "stdout",
     "output_type": "stream",
     "text": [
      "[[1, 0, 1], [0, 0, 0], [1, 0, 1]]\n",
      "[[0, 0, 0, 0], [0, 4, 5, 0], [0, 3, 1, 0]]\n"
     ]
    }
   ],
   "source": [
    "#Write an algorithm such that if an element in an MxN matrix is 0, its entire row and column are set to 0\n",
    "\n",
    "def setZero(matrix):\n",
    "    r, c = len(matrix), len(matrix[0])\n",
    "    rows, cols = set(), set()\n",
    "    \n",
    "    #find rows and columns that have 0 element\n",
    "    for i in range(r):\n",
    "        for j in range(c):\n",
    "            if matrix[i][j] == 0:\n",
    "                rows.add(i)\n",
    "                cols.add(j)\n",
    "    \n",
    "    #Iterate over matrix and use rows and cols to set entire row/column to 0\n",
    "    for i in range(r):\n",
    "        for j in range(c):\n",
    "            if i in rows or j in cols:\n",
    "                matrix[i][j] = 0\n",
    "    return matrix\n",
    "\n",
    "print(setZero([\n",
    "  [1,1,1],\n",
    "  [1,0,1],\n",
    "  [1,1,1]\n",
    "]))\n",
    "print(setZero([\n",
    "  [0,1,2,0],\n",
    "  [3,4,5,2],\n",
    "  [1,3,1,5]\n",
    "]))"
   ]
  },
  {
   "cell_type": "code",
   "execution_count": 52,
   "metadata": {
    "collapsed": true
   },
   "outputs": [],
   "source": [
    "#Given 2 strings, s and t, write code to check if t is a rotation of s. Assume you have a method called subString\n",
    "#which checks if one word is a substring of another. Call this only once\n",
    "\n",
    "def rotateString(s, t):\n",
    "    #must check if len(s) == len(t) b/c if we don't it will fail for cases of s='a' and t='aa'\n",
    "    if len(s) > 0 and len(s) == len(t): \n",
    "        return subString(s+s, t) #all s rotations are in s+s. need to check if t is a substring in s+s\n",
    "    return False"
   ]
  },
  {
   "cell_type": "code",
   "execution_count": null,
   "metadata": {
    "collapsed": true
   },
   "outputs": [],
   "source": []
  }
 ],
 "metadata": {
  "kernelspec": {
   "display_name": "Python 3",
   "language": "python",
   "name": "python3"
  },
  "language_info": {
   "codemirror_mode": {
    "name": "ipython",
    "version": 3
   },
   "file_extension": ".py",
   "mimetype": "text/x-python",
   "name": "python",
   "nbconvert_exporter": "python",
   "pygments_lexer": "ipython3",
   "version": "3.6.9"
  }
 },
 "nbformat": 4,
 "nbformat_minor": 2
}
