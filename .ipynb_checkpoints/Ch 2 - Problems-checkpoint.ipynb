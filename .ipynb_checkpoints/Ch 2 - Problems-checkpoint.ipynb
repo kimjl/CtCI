{
 "cells": [
  {
   "cell_type": "code",
   "execution_count": 3,
   "metadata": {
    "collapsed": true
   },
   "outputs": [],
   "source": [
    "#Write code to remove duplicates from an unsorted linked list\n",
    "# class ListNode:\n",
    "#     def __init__(self, x):\n",
    "#         self.val = x\n",
    "#         self.next = None\n",
    "\n",
    "def removeDup(head):\n",
    "    if head is None:\n",
    "        return None\n",
    "    \n",
    "    curr = head\n",
    "    while curr is not None:\n",
    "        runner = curr\n",
    "        while runner.next is not None:\n",
    "            if runner.next.val == curr.val:\n",
    "                runner.next = runner.next.next\n",
    "            else:\n",
    "                runner = runner.next\n",
    "        curr = curr.next        "
   ]
  },
  {
   "cell_type": "code",
   "execution_count": 4,
   "metadata": {
    "collapsed": true
   },
   "outputs": [],
   "source": [
    "#Implement an algorithm to find the kth to last element of a singly linked list\n",
    "\n",
    "def kthLast(head, k):\n",
    "    slow, fast = head, head\n",
    "    for i in range(k): #place slow and fast nodes k nodes apart\n",
    "        fast = fast.next\n",
    "        \n",
    "    if fast == None:\n",
    "        return None\n",
    "    \n",
    "    while fast: #fast will hit end of linked list and slow will be a kth last element\n",
    "        fast = fast.next\n",
    "        slow = slow.next\n",
    "    return slow"
   ]
  },
  {
   "cell_type": "code",
   "execution_count": 5,
   "metadata": {
    "collapsed": true
   },
   "outputs": [],
   "source": [
    "#Design an algorithm to delete a node in the middle (not necessarily exactly middle) of a singly linked list given only\n",
    "#access to that node\n",
    "\n",
    "def deleteNode(node):\n",
    "    if node == None:\n",
    "        return\n",
    "    if node.next:\n",
    "        node.val = node.next.val\n",
    "        node.next = node.next.next\n",
    "    return"
   ]
  },
  {
   "cell_type": "code",
   "execution_count": 6,
   "metadata": {
    "collapsed": true
   },
   "outputs": [],
   "source": [
    "#Write code to partition a linked list around a value, x, such that all nodes less than x come before and\n",
    "#all nodes greater come after. If x is contained in the linked list, the values of x only need to be after the elements\n",
    "#less than x. Partition element x can appear anywhere in the 'right' partition; it does not need to appear between\n",
    "#the left and right partitions\n",
    "#EXAMPLE: 3->5->8->5->10->2->1 [partition=5] -----> 3->1->2->10->5->5->8\n",
    "\n",
    "def partition(head, x):\n",
    "    before = before_head = ListNode(0)\n",
    "    after = after_head = ListNode(0)\n",
    "    \n",
    "    while head:\n",
    "        if head.val < x:\n",
    "            before.next = head\n",
    "            before = before.next\n",
    "        else:\n",
    "            after.next = head\n",
    "            after = after.next\n",
    "        head = head.next\n",
    "        \n",
    "    after.next = None\n",
    "    before.next = after_head.next\n",
    "    return before_head.next"
   ]
  },
  {
   "cell_type": "code",
   "execution_count": 8,
   "metadata": {
    "collapsed": true
   },
   "outputs": [],
   "source": [
    "#You have two numbers represented by a linked list where each node contains a single digit.\n",
    "#The digits are stored in reversed order. Write a function to add the two numbers and return the sum as a linked list\n",
    "#(7->1->6) + (5->9->2) = 617 + 295 = 912 = (2->1->9)\n",
    "\n",
    "# class ListNode:\n",
    "#     def __init__(self, x):\n",
    "#         self.val = x\n",
    "#         self.next = None\n",
    "\n",
    "def addTwo(l1, l2):\n",
    "    head = l3 = ListNode(0)\n",
    "    carry = 0 #store the sum of the digits\n",
    "    \n",
    "    while l1 or l2 or carry:\n",
    "        if l1:\n",
    "            carry += l1.val\n",
    "            l1 = l1.next\n",
    "        if l2:\n",
    "            carry += l2.val\n",
    "            l2 = l2.next\n",
    "\n",
    "        l3.val = carry % 10 #gives us the remainder. (i.e. 17 mod 10 = 7)\n",
    "        carry = carry // 10 #gives us the 1 to carry over\n",
    "\n",
    "        if l1 or l2 or carry:\n",
    "            l3.next = ListNode(0)\n",
    "            l3 = l3.next\n",
    "    return head"
   ]
  },
  {
   "cell_type": "code",
   "execution_count": 9,
   "metadata": {
    "collapsed": true
   },
   "outputs": [],
   "source": [
    "#Check if a linked list is a palindrome\n",
    "\n",
    "def palindrome(head):\n",
    "    #Pythonic solution\n",
    "    s = []\n",
    "    while head:\n",
    "        s.append(head.val)\n",
    "        head = head.next\n",
    "    return s == s[::-1]\n",
    "    \n",
    "    #Runner Solution (fast and slow)\n",
    "#     fast, slow = head, head\n",
    "#     s = []\n",
    "#     while fast and fast.next:\n",
    "#         s.append(slow.val)\n",
    "#         slow = slow.next\n",
    "#         fast = fast.next.next\n",
    "#     if fast:\n",
    "#         slow = slow.next\n",
    "    \n",
    "#     while slow:\n",
    "#         if s.pop() != slow.val:\n",
    "#             return False\n",
    "#         slow = slow.next\n",
    "#     return True\n",
    "    "
   ]
  },
  {
   "cell_type": "code",
   "execution_count": 10,
   "metadata": {
    "collapsed": true
   },
   "outputs": [],
   "source": [
    "#Given two singly linked lists, determine if the two lists intersect. Return the intersecting node.\n",
    "#Note that the intersection is based on reference, not value. \n",
    "\n",
    "def intersection(l1, l2):\n",
    "    if l1 == None or l2 == None:\n",
    "        return None\n",
    "    \n",
    "    p = l1\n",
    "    q = l2\n",
    "    while p != q:\n",
    "        if p == None:\n",
    "            p = l2\n",
    "        else:\n",
    "            p = p.next\n",
    "        if q == None:\n",
    "            q = l1\n",
    "        else:\n",
    "            q = q.next\n",
    "    return p"
   ]
  },
  {
   "cell_type": "code",
   "execution_count": 11,
   "metadata": {
    "collapsed": true
   },
   "outputs": [],
   "source": [
    "#Given a circular linked list, implement an algorithm that returns the node at the beginning of the loop\n",
    "#a circular linked list is a corrupt linked list in which a node's next pointer points to an earlier node\n",
    "#EXAMPLE A->B->C->D->E->C -------> C\n",
    "\n",
    "def circular(node):\n",
    "    visited = set()\n",
    "    while node:\n",
    "        if node in visited:\n",
    "            return node\n",
    "        else:\n",
    "            visited.add(node)\n",
    "            node = node.next\n",
    "    return None"
   ]
  },
  {
   "cell_type": "code",
   "execution_count": null,
   "metadata": {
    "collapsed": true
   },
   "outputs": [],
   "source": []
  }
 ],
 "metadata": {
  "kernelspec": {
   "display_name": "Python 3",
   "language": "python",
   "name": "python3"
  },
  "language_info": {
   "codemirror_mode": {
    "name": "ipython",
    "version": 3
   },
   "file_extension": ".py",
   "mimetype": "text/x-python",
   "name": "python",
   "nbconvert_exporter": "python",
   "pygments_lexer": "ipython3",
   "version": "3.6.9"
  }
 },
 "nbformat": 4,
 "nbformat_minor": 2
}
