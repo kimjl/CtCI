{
 "cells": [
  {
   "cell_type": "code",
   "execution_count": 1,
   "metadata": {},
   "outputs": [
    {
     "name": "stdout",
     "output_type": "stream",
     "text": [
      "100\n",
      "99\n",
      "98\n",
      "97\n",
      "96\n",
      "95\n",
      "94\n",
      "93\n",
      "92\n",
      "91\n",
      "90\n",
      "89\n",
      "88\n",
      "87\n",
      "86\n",
      "85\n",
      "84\n",
      "83\n",
      "82\n",
      "81\n",
      "80\n",
      "79\n",
      "78\n",
      "77\n",
      "76\n",
      "75\n",
      "74\n",
      "73\n",
      "72\n",
      "71\n",
      "70\n",
      "69\n",
      "68\n",
      "67\n",
      "66\n",
      "65\n",
      "64\n",
      "63\n",
      "62\n",
      "61\n",
      "60\n",
      "59\n",
      "58\n",
      "57\n",
      "56\n",
      "55\n",
      "54\n",
      "53\n",
      "52\n",
      "51\n",
      "50\n",
      "49\n",
      "48\n",
      "47\n",
      "46\n",
      "45\n",
      "44\n",
      "43\n",
      "42\n",
      "41\n",
      "40\n",
      "39\n",
      "38\n",
      "37\n",
      "36\n",
      "35\n",
      "34\n",
      "33\n",
      "32\n",
      "31\n",
      "30\n",
      "29\n",
      "28\n",
      "27\n",
      "26\n",
      "25\n",
      "24\n",
      "23\n",
      "22\n",
      "21\n",
      "20\n",
      "19\n",
      "18\n",
      "17\n",
      "16\n",
      "15\n",
      "14\n",
      "13\n",
      "12\n",
      "11\n",
      "10\n",
      "9\n",
      "8\n",
      "7\n",
      "6\n",
      "5\n",
      "4\n",
      "3\n",
      "2\n",
      "1\n"
     ]
    }
   ],
   "source": [
    "#find the mistake\n",
    "\n",
    "# unsigned int i;\n",
    "# for (i = 100; i >= 0; --i)\n",
    "# printf(\"%d\\n\", i); \n",
    "\n",
    "#we want to print all numbers starting from 100 down to 1. For loop above loops forever\n",
    "\n",
    "def code():\n",
    "    i = 100\n",
    "    while i > 0:\n",
    "        print(\"{}\".format(i))\n",
    "        i -= 1\n",
    "code()"
   ]
  },
  {
   "cell_type": "code",
   "execution_count": 2,
   "metadata": {
    "collapsed": true
   },
   "outputs": [],
   "source": [
    "# You are given the source to an application which crashes when it is run. After\n",
    "# running it ten times in a debugger, you find it never crashes in the same place. The application is\n",
    "# single threaded, and uses only the C standard library. What programming errors could be causing\n",
    "# this crash? How would you test each one?\n",
    "\n",
    "#POSSIBLE ISSUES\n",
    "# 1.Random number or variable may not be executing properly in the program\n",
    "# 2. Uninitialized variable\n",
    "# 3. Memory leak.\n",
    "# 4. External dependency not properly linked\n",
    "\n",
    "#Narrow down the crashes. Is it truly random? Or only when it is, for example, loading a file. Close all applications besides\n",
    "#the application that is crashing. "
   ]
  },
  {
   "cell_type": "code",
   "execution_count": 3,
   "metadata": {
    "collapsed": true
   },
   "outputs": [],
   "source": [
    "# We have the following method used in a chess game: boolean canMoveTo( int x,\n",
    "# int y). This method is part of the Piece class and returns whether or not the piece can move to\n",
    "# position (x, y). Explain how you would test this method.\n",
    "\n",
    "# Check for unusal cases. Testing for negative values of x and y. Test if x > width and y > height. We can test a full\n",
    "# board and an empty board. Test with different number of pieces, like more white than black pieces or vice versa.\n"
   ]
  },
  {
   "cell_type": "code",
   "execution_count": 4,
   "metadata": {
    "collapsed": true
   },
   "outputs": [],
   "source": [
    "# How would you load test a webpage without using any test tools? \n",
    "\n",
    "# We can design tests to simulate the load test, check the webpage for response times, resource utilization, throughput\n",
    "# and the max load it can bear. We can do this by creating thousands of users."
   ]
  },
  {
   "cell_type": "code",
   "execution_count": 5,
   "metadata": {
    "collapsed": true
   },
   "outputs": [],
   "source": [
    "# How would you test a pen? \n",
    "\n",
    "# Who, what, where, when, how and why\n",
    "# Who will use the pen? What will they be using it for? Where will it be used on? (Walls, paper, etc).\n",
    "# Why will they be using it? The key is having a structure.\n",
    "\n",
    "# Test the intended and unintended scenarios. "
   ]
  },
  {
   "cell_type": "code",
   "execution_count": null,
   "metadata": {
    "collapsed": true
   },
   "outputs": [],
   "source": [
    "# How would you test an ATM in a distributed banking system? \n",
    "\n",
    "# Who, what, where, when, how and why\n",
    "# Think about the components. Logging in, withdrawing money, depositing money, checking balance, transferring money,\n",
    "# scanning a check, etc.\n",
    "# We want a mix of manual and automated testing for the various services. Priotize security and reliability for customers."
   ]
  }
 ],
 "metadata": {
  "kernelspec": {
   "display_name": "Python 3",
   "language": "python",
   "name": "python3"
  },
  "language_info": {
   "codemirror_mode": {
    "name": "ipython",
    "version": 3
   },
   "file_extension": ".py",
   "mimetype": "text/x-python",
   "name": "python",
   "nbconvert_exporter": "python",
   "pygments_lexer": "ipython3",
   "version": "3.6.9"
  }
 },
 "nbformat": 4,
 "nbformat_minor": 2
}
