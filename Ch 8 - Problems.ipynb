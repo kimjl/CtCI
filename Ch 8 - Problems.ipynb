{
 "cells": [
  {
   "cell_type": "code",
   "execution_count": 6,
   "metadata": {},
   "outputs": [
    {
     "data": {
      "text/plain": [
       "8"
      ]
     },
     "execution_count": 6,
     "metadata": {},
     "output_type": "execute_result"
    }
   ],
   "source": [
    "def fib(n):\n",
    "    a = 0\n",
    "    b = 1\n",
    "    for i in range(n):\n",
    "        a, b = b+a, a\n",
    "    return a\n",
    "fib(2) #2nd fib number\n",
    "fib(6) #6th fib number"
   ]
  },
  {
   "cell_type": "code",
   "execution_count": 12,
   "metadata": {},
   "outputs": [
    {
     "name": "stdout",
     "output_type": "stream",
     "text": [
      "2\n",
      "4\n",
      "7\n"
     ]
    }
   ],
   "source": [
    "# A child is running up a staircase with n steps and can hop either 1 step, 2 steps, or 3\n",
    "# steps at a time. Implement a method to count how many possible ways the child can run up the\n",
    "# stairs. \n",
    "\n",
    "# def triple_step(n):\n",
    "#     if n < 0:\n",
    "#         return 0\n",
    "#     elif n == 0:\n",
    "#         return 1\n",
    "#     else:\n",
    "#         return triple_step(n-1) + triple_step(n-2) + triple_step(n-3)\n",
    "\n",
    "def triple_step(n):\n",
    "    res = [0] * (n + 1) \n",
    "    #base cases\n",
    "    res[0] = 1\n",
    "    res[1] = 1\n",
    "    res[2] = 2\n",
    "      \n",
    "    for i in range(3, n + 1) : \n",
    "        res[i] = res[i - 1] + res[i - 2] + res[i - 3] \n",
    "      \n",
    "    return res[n] \n",
    "\n",
    "print(triple_step(2)) #1 or 2\n",
    "print(triple_step(3)) # 111, 12, 21, 3\n",
    "print(triple_step(4)) #1111, 112, 121, 211, 22, 13, 31"
   ]
  },
  {
   "cell_type": "code",
   "execution_count": 31,
   "metadata": {},
   "outputs": [
    {
     "name": "stdout",
     "output_type": "stream",
     "text": [
      "3\n",
      "28\n"
     ]
    }
   ],
   "source": [
    "# Imagine a robot sitting on the upper left corner of grid with n rows and m columns.\n",
    "# The robot can only move in two directions, right and down, but certain cells are \"off limits\" such that\n",
    "# the robot cannot step on them. Design an algorithm to find a path for the robot from the top left to\n",
    "# the bottom right\n",
    "\n",
    "#leetcode problem - https://leetcode.com/problems/unique-paths/\n",
    "\n",
    "# def robot_grid(m, n):\n",
    "#     if m == 1 or n == 1:\n",
    "#         return 1\n",
    "#     return robot_grid(m-1, n) + robot_grid(m, n-1)\n",
    "\n",
    "#O(m*n) for time and space\n",
    "def robot_grid(m, n):\n",
    "    dp = [[1] * n for _ in range(m)] #create mxn matrix of 1s\n",
    "#     print(dp)\n",
    "    for i in range(1, m):\n",
    "        for j in range(1, n):\n",
    "            dp[i][j] = dp[i-1][j] +dp[i][j-1] #dp[i-1][j] is looking above us and dp[i][j-1] is looking to left of us\n",
    "    return dp[m-1][n-1]\n",
    "\n",
    "print(robot_grid(3, 2)) #r,r,d r,d,r d,r,r\n",
    "print(robot_grid(7, 3))"
   ]
  },
  {
   "cell_type": "code",
   "execution_count": 29,
   "metadata": {},
   "outputs": [
    {
     "name": "stdout",
     "output_type": "stream",
     "text": [
      "4\n",
      "2\n"
     ]
    }
   ],
   "source": [
    "# A magic index in an array A [e ... n -1] is defined to be an index such that A[ i] =\n",
    "# i. Given a sorted array of distinct integers, write a method to find a magic index, if one exists, in\n",
    "# array A. \n",
    "\n",
    "# def magic_index(n):\n",
    "#     for i in range(len(n)):\n",
    "#         if n[i] == i:\n",
    "#             return i\n",
    "#     return -1\n",
    "\n",
    "def magic_index(n):\n",
    "    left, right = 0, len(n)-1\n",
    "    while left < right:\n",
    "        mid = (left+right)//2\n",
    "        if n[mid] == mid:\n",
    "            return mid\n",
    "        elif n[0] < n[mid]:\n",
    "            left = mid+1\n",
    "        else:\n",
    "            right = mid-1\n",
    "print(magic_index([-1, 0, 1, 2, 4, 10]))\n",
    "print(magic_index([1, 3, 2, 5, 7]))"
   ]
  },
  {
   "cell_type": "code",
   "execution_count": 35,
   "metadata": {},
   "outputs": [
    {
     "name": "stdout",
     "output_type": "stream",
     "text": [
      "[[], [1], [1, 2], [1, 2, 3], [1, 3], [2], [2, 3], [3]]\n"
     ]
    }
   ],
   "source": [
    "# Write a method to return all subsets of a set. \n",
    "\n",
    "#leetcode problem - https://leetcode.com/problems/subsets/\n",
    "\n",
    "# def subsets(nums):\n",
    "#     result = [[]]\n",
    "#     for num in sorted(nums):\n",
    "#         result += [i+[num] for i in result]\n",
    "#     return result\n",
    "\n",
    "def subsets(nums):\n",
    "    res = []\n",
    "    dfs(sorted(nums), 0, [], res)\n",
    "    return res\n",
    "    \n",
    "def dfs(nums, index, path, res):\n",
    "    res.append(path)\n",
    "    for i in range(index, len(nums)):\n",
    "        dfs(nums, i+1, path+[nums[i]], res)\n",
    "        \n",
    "print(subsets([1,2,3]))"
   ]
  },
  {
   "cell_type": "code",
   "execution_count": 36,
   "metadata": {},
   "outputs": [
    {
     "name": "stdout",
     "output_type": "stream",
     "text": [
      "[[1, 2, 3], [1, 3, 2], [2, 1, 3], [2, 3, 1], [3, 1, 2], [3, 2, 1]]\n"
     ]
    }
   ],
   "source": [
    "#Write a method to compute all permutations of a string of unique characters. \n",
    "\n",
    "#leetcode problem - https://leetcode.com/problems/permutations/\n",
    "\n",
    "def permutations(nums):\n",
    "    result = []\n",
    "    backtrack(nums, [], result)\n",
    "    return result\n",
    "\n",
    "def backtrack(nums, so_far, result):\n",
    "    if len(nums) == len(so_far):\n",
    "        result.append(so_far)\n",
    "        return\n",
    "    for i in range(len(nums)):\n",
    "        if nums[i] in so_far:\n",
    "            continue\n",
    "        backtrack(nums, so_far+[nums[i]], result)\n",
    "\n",
    "print(permutations([1,2,3]))"
   ]
  },
  {
   "cell_type": "code",
   "execution_count": 37,
   "metadata": {},
   "outputs": [
    {
     "name": "stdout",
     "output_type": "stream",
     "text": [
      "['((()))', '(()())', '(())()', '()(())', '()()()']\n"
     ]
    }
   ],
   "source": [
    "# Implement an algorithm to print all valid (e.g., properly opened and closed) combinations\n",
    "# of n pairs of parentheses. \n",
    "\n",
    "#lletcode problem - https://leetcode.com/problems/generate-parentheses/\n",
    "\n",
    "def generate(n):\n",
    "    result = []\n",
    "    \n",
    "    def helper(s, numOpen, numClosed):\n",
    "        if len(s) == 2*n:\n",
    "            result.append(s)\n",
    "        if numOpen < n:\n",
    "            helper(s+'(', numOpen+1, numClosed)\n",
    "        if numOpen > numClosed:\n",
    "            helper(s+')', numOpen, numClosed+1)\n",
    "    helper('', 0, 0)\n",
    "    return result\n",
    "\n",
    "print(generate(3))"
   ]
  },
  {
   "cell_type": "code",
   "execution_count": 45,
   "metadata": {},
   "outputs": [
    {
     "name": "stdout",
     "output_type": "stream",
     "text": [
      "3\n"
     ]
    }
   ],
   "source": [
    "# Given an innnite number of quarters (25 cents), dimes (10 cents), nickels (5 cents), and\n",
    "# pennies (1 cent), write code to calculate the number of ways of representing n cents.\n",
    "\n",
    "#leetcode problem - https://leetcode.com/problems/coin-change/\n",
    "\n",
    "def coinChange(coins, amount):\n",
    "    dp = [0] + [float('inf') for i in range(amount)]\n",
    "    \n",
    "    for i in range(1, amount+1):\n",
    "        for coin in coins:\n",
    "            if i - coin >= 0:\n",
    "                dp[i] = min(dp[i], dp[i-coin] + 1)\n",
    "                \n",
    "    if dp[-1] == float('inf'):\n",
    "        return -1\n",
    "    \n",
    "    return dp[-1]\n",
    "\n",
    "print(coinChange([1, 2, 5], 11))"
   ]
  },
  {
   "cell_type": "code",
   "execution_count": null,
   "metadata": {
    "collapsed": true
   },
   "outputs": [],
   "source": []
  }
 ],
 "metadata": {
  "kernelspec": {
   "display_name": "Python 3",
   "language": "python",
   "name": "python3"
  },
  "language_info": {
   "codemirror_mode": {
    "name": "ipython",
    "version": 3
   },
   "file_extension": ".py",
   "mimetype": "text/x-python",
   "name": "python",
   "nbconvert_exporter": "python",
   "pygments_lexer": "ipython3",
   "version": "3.6.9"
  }
 },
 "nbformat": 4,
 "nbformat_minor": 2
}
