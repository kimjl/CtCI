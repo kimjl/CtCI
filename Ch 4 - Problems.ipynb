{
 "cells": [
  {
   "cell_type": "code",
   "execution_count": 8,
   "metadata": {
    "collapsed": true
   },
   "outputs": [],
   "source": [
    "#Given a direct graph, design an algorithm to find out whether there is a route between two nodes\n",
    "\n",
    "# Definition for a Directed graph node\n",
    "# class DirectedGraphNode:\n",
    "#     def __init__(self, x):\n",
    "#         self.label = x\n",
    "#         self.neighbors = []\n",
    "\n",
    "def hasRoute(graph, s, t):\n",
    "    if s == t:\n",
    "        return True\n",
    "    visited = set([s])\n",
    "\n",
    "    def dfs(v):\n",
    "        visited.add(v)\n",
    "        for neighbor in v.neighbors:\n",
    "            if neighbor in visited:\n",
    "                continue\n",
    "            if neighbor == t:\n",
    "                return True\n",
    "            if dfs(neighbor):\n",
    "                return True\n",
    "        return False\n",
    "        \n",
    "    return dfs(s)"
   ]
  },
  {
   "cell_type": "code",
   "execution_count": 10,
   "metadata": {
    "collapsed": true
   },
   "outputs": [],
   "source": [
    "#Given sorted array of integers, write an algorithm to create binary search tree with minimal height\n",
    "\n",
    "#leetcode problem - https://leetcode.com/problems/convert-sorted-array-to-binary-search-tree/\n",
    "def sortedArray(l):\n",
    "    if not l:\n",
    "        return None\n",
    "    \n",
    "    def helper(left, right):\n",
    "        if left > right: #no elements for that subtree if left>right\n",
    "            return None\n",
    "        mid = (left+right)//2\n",
    "        root = TreeNode(l[mid]) #initiate root\n",
    "        root.left = helper(left, mid-1)\n",
    "        root.right = helper(mid+1, right)\n",
    "        return root\n",
    "    return helper(0, len(l)-1)"
   ]
  },
  {
   "cell_type": "code",
   "execution_count": 13,
   "metadata": {
    "collapsed": true
   },
   "outputs": [],
   "source": [
    "#Given a binary tree, create a linked list of all the nodes at each depth. If you have depth n, you have n linked lists\n",
    "\n",
    "#leetcode problem - https://leetcode.com/problems/flatten-binary-tree-to-linked-list/\n",
    "\n",
    "def flatten(root):\n",
    "    if not root:\n",
    "        return None\n",
    "    node = root #pointer to traverse the tree\n",
    "    while node:\n",
    "        if node.left: #check for left child, if not check for right\n",
    "            rightmost = node.left\n",
    "            \n",
    "            while rightmost.right: #find rightmost child\n",
    "                rightmost = rightmost.right\n",
    "                \n",
    "            rightmost.right = node.right #set rightmode node to right child\n",
    "            node.right = node.left #set right node to left node\n",
    "            node.left = None #need to 'flatten' the tree into a linked list, no left child needed\n",
    "            \n",
    "        node = node.right"
   ]
  },
  {
   "cell_type": "code",
   "execution_count": 16,
   "metadata": {
    "collapsed": true
   },
   "outputs": [],
   "source": [
    "#Check if a binary tree is balanced. Balanced tree is defined to be heights of 2 subtrees never differ by more than 1\n",
    "\n",
    "#leetcode proble - https://leetcode.com/problems/balanced-binary-tree/\n",
    "\n",
    "def height(root):\n",
    "    if not root:\n",
    "        return -1\n",
    "    return 1 + max(height(root.left), height(root.right)) #calculate tree height\n",
    "\n",
    "def isBalanced(root):\n",
    "    if not root:\n",
    "        return True\n",
    "    \n",
    "    if abs(height(root.left) - height(root.right)) > 1: #if height diff > 1, not balanced\n",
    "        return False\n",
    "    else:\n",
    "        return isBalanced(root.left) and isBalanced(root.right) #check if balanced\n"
   ]
  },
  {
   "cell_type": "code",
   "execution_count": 17,
   "metadata": {
    "collapsed": true
   },
   "outputs": [],
   "source": [
    "#Implement a function to determine if a binary tree is a binary search tree\n",
    "\n",
    "#leetcode problem - https://leetcode.com/problems/validate-binary-search-tree/\n",
    "\n",
    "# Definition for a binary tree node.\n",
    "# class TreeNode:\n",
    "#     def __init__(self, x):\n",
    "#         self.val = x\n",
    "#         self.left = None\n",
    "#         self.right = None\n",
    "        \n",
    "def isValidBST(self, root):\n",
    "    \"\"\"\n",
    "    :type root: TreeNode\n",
    "    :rtype: bool\n",
    "    \"\"\"\n",
    "    \n",
    "    #Compare the node value with its upper and lower limits if they are available. \n",
    "    #Repeat the same step recursively for left and right subtrees\n",
    "    def helper(node, lower = float('-inf'), upper = float('inf')):\n",
    "        if not node:\n",
    "            return True\n",
    "\n",
    "        val = node.val\n",
    "        if val <= lower or val >= upper:\n",
    "            return False\n",
    "\n",
    "        if not helper(node.right, val, upper):\n",
    "            return False\n",
    "        if not helper(node.left, lower, val):\n",
    "            return False\n",
    "        return True\n",
    "\n",
    "    return helper(root)"
   ]
  },
  {
   "cell_type": "code",
   "execution_count": 18,
   "metadata": {
    "collapsed": true
   },
   "outputs": [],
   "source": [
    "# Write an algorithm to find the \"next\" node (i.e., in-order successor) of a given node in a\n",
    "# binary search tree. You may assume that each node has a link to its parent.\n",
    "\n",
    "#leetcode problem - https://leetcode.com/problems/inorder-successor-in-bst/\n",
    "def inorderSuccessor(root, p):\n",
    "    successor = None\n",
    "    while root: #start at root node\n",
    "        if root.val > p.val:#if root.val > p.val the successor lies somewhere left\n",
    "            successor = root\n",
    "            root = root.left\n",
    "        else:\n",
    "            root = root.right #root.val < p.val the successor lies somewhere right\n",
    "    return successor"
   ]
  },
  {
   "cell_type": "code",
   "execution_count": 19,
   "metadata": {
    "collapsed": true
   },
   "outputs": [],
   "source": [
    "# Design an algorithm and write code to find the first common ancestor of two nodes in a binary tree. \n",
    "\n",
    "#leetcode problem - https://leetcode.com/problems/lowest-common-ancestor-of-a-binary-tree/\n",
    "\n",
    "def lowestCommonAncestor(root, p, q):\n",
    "    return helper(root, p, q)\n",
    "def helper(root, p, q):\n",
    "    if root in (None, p, q):\n",
    "        return root\n",
    "    left = helper(root.left, p, q)\n",
    "    right = helper(root.right, p, q)\n",
    "    \n",
    "    if left and right:\n",
    "        return root\n",
    "    elif not left:\n",
    "        return right\n",
    "    else:\n",
    "        return left"
   ]
  },
  {
   "cell_type": "code",
   "execution_count": 28,
   "metadata": {},
   "outputs": [],
   "source": [
    "#Given a binary search tree, print all possible arrays that could have led to this tree\n",
    "\n",
    "#leetcode problem - https://leetcode.com/problems/unique-binary-search-trees-ii/\n",
    "\n",
    "def generateTrees(n):\n",
    "    def generate_trees(start, end):\n",
    "        if start > end:\n",
    "            return [None,]\n",
    "\n",
    "        all_trees = []\n",
    "        for i in range(start, end+1): #picking a root\n",
    "            left_trees = generate_trees(start, i-1) #i-1 nodes left after picking root\n",
    "            right_trees = generate_trees(i+1, end) #available right trees\n",
    "\n",
    "            for l in left_trees:\n",
    "                for r in right_trees:\n",
    "                    curr_tree = TreeNode(i)\n",
    "                    curr_tree.left = l\n",
    "                    curr_tree.right = r\n",
    "                    all_trees.append(curr_tree)\n",
    "        return all_trees\n",
    "    if n:\n",
    "        return generate_trees(1, n)\n",
    "    else:\n",
    "        return []"
   ]
  },
  {
   "cell_type": "code",
   "execution_count": 29,
   "metadata": {
    "collapsed": true
   },
   "outputs": [],
   "source": [
    "# Tl and T2 are two very large binary trees, with Tl much bigger than T2. \n",
    "# Create an algorithm to determine if T2 is a subtree of Tl. \n",
    "\n",
    "#leetcode problem - https://leetcode.com/problems/subtree-of-another-tree/\n",
    "\n",
    "def isSubtree(t1, t2):\n",
    "    tree1 = preOrder(t1)\n",
    "    tree2 = preOrder(t2)\n",
    "    return tree2 in tree1 #check if tree2 is a substring of tree1\n",
    "\n",
    "def preOrder(node):\n",
    "    if node is None:\n",
    "        return 'null'\n",
    "    return \" \"+ str(node.val) + \" \" + preOrder(node.left) + \" \" + preOrder(node.right)"
   ]
  },
  {
   "cell_type": "code",
   "execution_count": 30,
   "metadata": {
    "collapsed": true
   },
   "outputs": [],
   "source": [
    "# You are implementing a binary tree class from scratch which, in addition to\n",
    "# insert, find, and delete, has a method getRandomNode() which returns a random node\n",
    "# from the tree. All nodes should be equally likely to be chosen. Design and implement an algorithm\n",
    "# for getRandomNode, and explain how you would implement the rest of the methods.\n",
    "\n",
    "import random\n",
    "\n",
    "def count(root):\n",
    "    if not root:\n",
    "        return 0\n",
    "    return count(root.left) + 1 + count(root.right)\n",
    "\n",
    "def getRandomNode(root):\n",
    "    a = root.size\n",
    "    if root.left:\n",
    "        b = root.left.size\n",
    "    else:\n",
    "        b  = 0\n",
    "    if root.right:\n",
    "        c = root.left.size\n",
    "    else:\n",
    "        c = 0\n",
    "    if b == c == 0:\n",
    "        return root.val\n",
    "    rand_num = random.randint(1, a)\n",
    "    if rand_num <= b:\n",
    "        return getRandomNode(root.left)\n",
    "    elif rand_num == b + 1:\n",
    "        return root.val\n",
    "    else:\n",
    "        return getRandomNode(root.right)"
   ]
  },
  {
   "cell_type": "code",
   "execution_count": 31,
   "metadata": {
    "collapsed": true
   },
   "outputs": [],
   "source": [
    "# Design an algorithm to count the number of paths that sum to a\n",
    "# given value. The path does not need to start or end at the root or a leaf, but it must go downwards\n",
    "# (traveling only from parent nodes to child nodes). \n",
    "\n",
    "#leetcode problem - https://leetcode.com/problems/path-sum/\n",
    "\n",
    "def pathSum(root, target):\n",
    "    if not root:\n",
    "        return False\n",
    "\n",
    "    target -= root.val\n",
    "    if not root.left and not root.right:  # if reach a leaf\n",
    "        return target == 0\n",
    "    return hasPathSum(root.left, target) or hasPathSum(root.right, target)\n",
    "\n",
    "\n",
    "#DFS SOLUTION\n",
    "def hasPathSum(root, sum):\n",
    "    \"\"\"\n",
    "    :type root: TreeNode\n",
    "    :type sum: int\n",
    "    :rtype: bool\n",
    "    \"\"\"\n",
    "\n",
    "    res = []\n",
    "    dfs(root, sum, res)\n",
    "    return any(res)\n",
    "\n",
    "def dfs(root, target, res):\n",
    "    if root:\n",
    "        if not root.left and not root.right:\n",
    "            if root.val == target:\n",
    "                res.append(True)\n",
    "        if root.left:\n",
    "            dfs(root.left, target-root.val, res)\n",
    "        if root.right:\n",
    "            dfs(root.right, target-root.val, res)"
   ]
  },
  {
   "cell_type": "code",
   "execution_count": null,
   "metadata": {
    "collapsed": true
   },
   "outputs": [],
   "source": []
  }
 ],
 "metadata": {
  "kernelspec": {
   "display_name": "Python 3",
   "language": "python",
   "name": "python3"
  },
  "language_info": {
   "codemirror_mode": {
    "name": "ipython",
    "version": 3
   },
   "file_extension": ".py",
   "mimetype": "text/x-python",
   "name": "python",
   "nbconvert_exporter": "python",
   "pygments_lexer": "ipython3",
   "version": "3.6.9"
  }
 },
 "nbformat": 4,
 "nbformat_minor": 2
}
